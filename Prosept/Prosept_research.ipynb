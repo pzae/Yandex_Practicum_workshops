{
 "cells": [
  {
   "cell_type": "markdown",
   "id": "bd27b766-2866-4091-a2f7-3ab323b11d07",
   "metadata": {},
   "source": [
    "# Prosept. Создание сервиса для полуавтоматической разметки товаров\n"
   ]
  },
  {
   "cell_type": "code",
   "execution_count": 1,
   "id": "1631815b-3504-45e8-8cbf-b078adc4f186",
   "metadata": {},
   "outputs": [],
   "source": [
    "import pandas as pd\n",
    "import numpy as np\n",
    "\n",
    "from sklearn.metrics.pairwise import cosine_similarity\n",
    "from sklearn.feature_extraction.text import TfidfVectorizer\n",
    "from scipy.sparse import csr_matrix\n",
    "from sentence_transformers import SentenceTransformer\n",
    "\n",
    "import re\n",
    "\n",
    "import requests\n",
    "import json"
   ]
  },
  {
   "cell_type": "code",
   "execution_count": 2,
   "id": "c4f4e050-4ebd-447b-b40b-2abe92331380",
   "metadata": {},
   "outputs": [],
   "source": [
    "import sentence_transformers"
   ]
  },
  {
   "cell_type": "code",
   "execution_count": 3,
   "id": "99a857b9-983b-4d22-a8cd-cdbd2bb744c9",
   "metadata": {},
   "outputs": [],
   "source": [
    "#print(sentence_transformers.__version__)"
   ]
  },
  {
   "cell_type": "code",
   "execution_count": 4,
   "id": "e81f1097-9ea3-434f-ad24-57485e128085",
   "metadata": {},
   "outputs": [],
   "source": [
    "pd.set_option('display.max_colwidth', None)\n",
    "pd.options.mode.chained_assignment = None"
   ]
  },
  {
   "cell_type": "markdown",
   "id": "ed5565fd-cac0-4189-b4cf-5e2d7ac83229",
   "metadata": {},
   "source": [
    "## Введение"
   ]
  },
  {
   "cell_type": "markdown",
   "id": "007d2785-c260-487c-bb27-ccff868bef77",
   "metadata": {},
   "source": [
    "Цели данного этапа: разработка прототипа модели и скорейшая проработка важных вопросов, таких как общий вид интеграции в backend. После того, как данное решение пройдёт полный цикл от разбработки до проверки, команда DS приступит к решению дополнительных вопросов, вынесеных в список к проработке в дальнейшем и улучшению метрики. <br>\n",
    "За основную гипотезу выбрано предположение о том, что названий товаров достаточно для получения мэтча с приемлемой точностью. Для реализации проверки этой гипотезы выбран метод `cosine_similarity`, применённый к векторам названий, полученным с помощью `TfidfVectorizer()` и `SentenceTransformer('LaBSE')`. Сопоставляются вектора столбцов `df_dealerprice.product_name` и `df_product.name`. Остальные фичи не используются, так по итогам проверки гипотезы получен удовлетворительный результат. <br>\n",
    "Также сразу стоит отметить, что по договорённости с бэкендом наш модуль вызвается один раз при запуске программы, просчитывает все мэтчи и выдаёт таблицу с мэтчами, с которой в дальнейшем и работает бэкенд. Функция просчёта мэтчей (самая ресурсоёмкая операция) в тетрадке выполняется за **менее чем за 1** секунду, что говорит о том, что и в сборке выполнение данного кода не должно приводить к задержкам и неудобствам для оператора."
   ]
  },
  {
   "cell_type": "markdown",
   "id": "f13ff5a0-42c0-4b2a-b5b1-55c402428bf3",
   "metadata": {},
   "source": [
    "## Подготовка данных"
   ]
  },
  {
   "cell_type": "markdown",
   "id": "26d6f8b6-bef0-4f35-b120-96973703855f",
   "metadata": {},
   "source": [
    "Загрузим данные их датасетов `marketing_dealerprice.csv`, `marketing_product.csv` и `marketing_productdealerkey.csv`. `marketing_dealer` не нужен для DS модуля, так как информация из него подтягивается бэкендом. В контейнере реализована загрузка датасетов с помощью `requests.get()`."
   ]
  },
  {
   "cell_type": "markdown",
   "id": "e4768b4e-7aa4-42b1-82e3-41ba1b540e3e",
   "metadata": {},
   "source": [
    "Датасеты `marketing_dealerprice.csv` и `marketing_product.csv` сразу очистим от дубликатов, чтобы не повторять расчёт для одинаковых позиций. Стоит отметить, что в датасетах обнаружены одинаковые названия с разными `id`, а также пропуски. Данные вопросы вынесены в список к проработке в дальнейшем. <br>\n",
    "Также для `df_product` создан список уникальных и упорядоченных `id_unique`. Данная операция осталась от предыдущего метода совмещения исходных данных, который за 19 часов до дэдлайна оказался нежизнеспособным. В дальнейшем будет рассмотрена возможность упразднения данной операции."
   ]
  },
  {
   "cell_type": "code",
   "execution_count": 5,
   "id": "2cf81dd3-1108-471b-8e07-7a9e7ae1b0d9",
   "metadata": {},
   "outputs": [],
   "source": [
    "path_to_dir = '../data/'"
   ]
  },
  {
   "cell_type": "code",
   "execution_count": 6,
   "id": "600dd382-843c-4cb3-af6b-1da5fa20004d",
   "metadata": {},
   "outputs": [
    {
     "data": {
      "text/plain": [
       "product_key     1965\n",
       "product_name    1953\n",
       "dtype: int64"
      ]
     },
     "execution_count": 6,
     "metadata": {},
     "output_type": "execute_result"
    }
   ],
   "source": [
    "df_dealerprice = pd.read_csv(path_to_dir + 'marketing_dealerprice.csv', sep=';')\n",
    "df_dealerprice[['product_key', 'product_name']].nunique()"
   ]
  },
  {
   "cell_type": "code",
   "execution_count": 7,
   "id": "394ea4e6-af29-4b33-89fc-46c75220b51d",
   "metadata": {},
   "outputs": [
    {
     "data": {
      "text/html": [
       "<div>\n",
       "<style scoped>\n",
       "    .dataframe tbody tr th:only-of-type {\n",
       "        vertical-align: middle;\n",
       "    }\n",
       "\n",
       "    .dataframe tbody tr th {\n",
       "        vertical-align: top;\n",
       "    }\n",
       "\n",
       "    .dataframe thead th {\n",
       "        text-align: right;\n",
       "    }\n",
       "</style>\n",
       "<table border=\"1\" class=\"dataframe\">\n",
       "  <thead>\n",
       "    <tr style=\"text-align: right;\">\n",
       "      <th></th>\n",
       "      <th>product_key</th>\n",
       "      <th>product_name</th>\n",
       "    </tr>\n",
       "  </thead>\n",
       "  <tbody>\n",
       "    <tr>\n",
       "      <th>0</th>\n",
       "      <td>546227</td>\n",
       "      <td>Средство универсальное Prosept Universal Spray, 500мл</td>\n",
       "    </tr>\n",
       "    <tr>\n",
       "      <th>1</th>\n",
       "      <td>546408</td>\n",
       "      <td>Концентрат Prosept Multipower для мытья полов, цитрус 1л</td>\n",
       "    </tr>\n",
       "  </tbody>\n",
       "</table>\n",
       "</div>"
      ],
      "text/plain": [
       "  product_key                                              product_name\n",
       "0      546227     Средство универсальное Prosept Universal Spray, 500мл\n",
       "1      546408  Концентрат Prosept Multipower для мытья полов, цитрус 1л"
      ]
     },
     "execution_count": 7,
     "metadata": {},
     "output_type": "execute_result"
    }
   ],
   "source": [
    "df_dealerprice = df_dealerprice[['product_key', 'product_name']]\n",
    "df_dealerprice.drop_duplicates(inplace=True)\n",
    "df_dealerprice.head(2)"
   ]
  },
  {
   "cell_type": "code",
   "execution_count": 8,
   "id": "2aeedd2a-a61b-4995-bf2f-3f67c49d4d9e",
   "metadata": {},
   "outputs": [
    {
     "data": {
      "text/plain": [
       "id      496\n",
       "name    487\n",
       "dtype: int64"
      ]
     },
     "execution_count": 8,
     "metadata": {},
     "output_type": "execute_result"
    }
   ],
   "source": [
    "df_product = pd.read_csv(path_to_dir + 'marketing_product.csv', sep=';')\n",
    "df_product[['id', 'name']].nunique()"
   ]
  },
  {
   "cell_type": "code",
   "execution_count": 9,
   "id": "3f34f87a-0624-489d-b2ba-2fea22c2cc9d",
   "metadata": {},
   "outputs": [
    {
     "data": {
      "text/html": [
       "<div>\n",
       "<style scoped>\n",
       "    .dataframe tbody tr th:only-of-type {\n",
       "        vertical-align: middle;\n",
       "    }\n",
       "\n",
       "    .dataframe tbody tr th {\n",
       "        vertical-align: top;\n",
       "    }\n",
       "\n",
       "    .dataframe thead th {\n",
       "        text-align: right;\n",
       "    }\n",
       "</style>\n",
       "<table border=\"1\" class=\"dataframe\">\n",
       "  <thead>\n",
       "    <tr style=\"text-align: right;\">\n",
       "      <th></th>\n",
       "      <th>id</th>\n",
       "      <th>name</th>\n",
       "    </tr>\n",
       "    <tr>\n",
       "      <th>id_unique</th>\n",
       "      <th></th>\n",
       "      <th></th>\n",
       "    </tr>\n",
       "  </thead>\n",
       "  <tbody>\n",
       "    <tr>\n",
       "      <th>0</th>\n",
       "      <td>245</td>\n",
       "      <td>Антисептик невымываемыйPROSEPT ULTRAконцентрат 1:10  / 1 л</td>\n",
       "    </tr>\n",
       "    <tr>\n",
       "      <th>1</th>\n",
       "      <td>3</td>\n",
       "      <td>Антигололед - 32 PROSEPTготовый состав / 12 кг</td>\n",
       "    </tr>\n",
       "  </tbody>\n",
       "</table>\n",
       "</div>"
      ],
      "text/plain": [
       "            id                                                        name\n",
       "id_unique                                                                 \n",
       "0          245  Антисептик невымываемыйPROSEPT ULTRAконцентрат 1:10  / 1 л\n",
       "1            3              Антигололед - 32 PROSEPTготовый состав / 12 кг"
      ]
     },
     "execution_count": 9,
     "metadata": {},
     "output_type": "execute_result"
    }
   ],
   "source": [
    "df_product = df_product[['id', 'name']]\n",
    "df_product.dropna(inplace=True)\n",
    "df_product.drop_duplicates(subset='name', inplace=True)\n",
    "\n",
    "df_product['id_unique'] = pd.factorize(df_product['name'])[0]\n",
    "df_product.set_index('id_unique', inplace=True)\n",
    "\n",
    "df_product.head(2)"
   ]
  },
  {
   "cell_type": "code",
   "execution_count": 10,
   "id": "4ac25301-7789-4913-aff3-6cd00bf0603d",
   "metadata": {},
   "outputs": [
    {
     "data": {
      "text/html": [
       "<div>\n",
       "<style scoped>\n",
       "    .dataframe tbody tr th:only-of-type {\n",
       "        vertical-align: middle;\n",
       "    }\n",
       "\n",
       "    .dataframe tbody tr th {\n",
       "        vertical-align: top;\n",
       "    }\n",
       "\n",
       "    .dataframe thead th {\n",
       "        text-align: right;\n",
       "    }\n",
       "</style>\n",
       "<table border=\"1\" class=\"dataframe\">\n",
       "  <thead>\n",
       "    <tr style=\"text-align: right;\">\n",
       "      <th></th>\n",
       "      <th>id</th>\n",
       "      <th>key</th>\n",
       "      <th>dealer_id</th>\n",
       "      <th>product_id</th>\n",
       "    </tr>\n",
       "  </thead>\n",
       "  <tbody>\n",
       "    <tr>\n",
       "      <th>0</th>\n",
       "      <td>1</td>\n",
       "      <td>546227</td>\n",
       "      <td>2</td>\n",
       "      <td>12</td>\n",
       "    </tr>\n",
       "    <tr>\n",
       "      <th>1</th>\n",
       "      <td>2</td>\n",
       "      <td>651265</td>\n",
       "      <td>2</td>\n",
       "      <td>106</td>\n",
       "    </tr>\n",
       "  </tbody>\n",
       "</table>\n",
       "</div>"
      ],
      "text/plain": [
       "   id     key  dealer_id  product_id\n",
       "0   1  546227          2          12\n",
       "1   2  651265          2         106"
      ]
     },
     "execution_count": 10,
     "metadata": {},
     "output_type": "execute_result"
    }
   ],
   "source": [
    "df_productdealerkey = pd.read_csv(path_to_dir + 'marketing_productdealerkey.csv', sep=';')\n",
    "df_productdealerkey.head(2)"
   ]
  },
  {
   "cell_type": "markdown",
   "id": "161b12e5-7270-4765-99f0-03ae2f503f87",
   "metadata": {},
   "source": [
    "Данные готовы, можно приступить к предобработке текста."
   ]
  },
  {
   "cell_type": "markdown",
   "id": "26c5e63a-8a60-40a9-9fda-2e31b1783f6b",
   "metadata": {},
   "source": [
    "## Предобработка текста"
   ]
  },
  {
   "cell_type": "markdown",
   "id": "2439121e-e911-4c30-ab2b-c37ef83a962e",
   "metadata": {},
   "source": [
    "Были выявлены следующие недостатки в данных:\n",
    "\n",
    "1. Разный регистр букв\n",
    "2. Расхождение единиц объёма/веса\n",
    "3. Слитное написание слов, отсутствие пробелов. Некоторые записи с полным отсутствием пробелов определяются как одно слово, что даёт `cosine_similarity = 0` до всех предложеных позиций.\n",
    "\n",
    "Основная идея - привести все записи и слова к одному формату, чтобы увеличить количество совпадений по словам и снизить размерность векторного пространства для более точного определения `cosine_similarity`. На данный момент удалось снизить размерность вектора с 1222 слов до 1099."
   ]
  },
  {
   "cell_type": "code",
   "execution_count": 11,
   "id": "6edb817e-7eba-43d1-8177-91549de5e27c",
   "metadata": {},
   "outputs": [],
   "source": [
    "def preprocess_text(text):\n",
    "    text = text.lower() # нижний регистр\n",
    "\n",
    "    # разделение слов\n",
    "    text = re.compile(r'(?<=[а-яА-Я])(?=[A-Za-z])|(?<=[A-Za-z])(?=[а-яА-Я])').sub(\" \", str(text))\n",
    "\n",
    "    # преобразование мл в л\n",
    "    text = re.sub(r'(\\d+)\\s*мл', lambda x: str(int(x.group(1)) / 1000) + ' ' + 'л', text)\n",
    "\n",
    "    # очищение текст от знаков\n",
    "    text = re.sub(r'[!#$%&\\'()*+,./:;<=>?@[\\]^_`{|}~—\\\"\\\\-]+', ' ', text)\n",
    "\n",
    "    # разделение по определенным словам\n",
    "    text = re.sub(r'(средство|мытья|для|чистящее|удаления|очистки|против|плесени|добавка|prosept)', r'\\1 ', str(text))\n",
    "\n",
    "    # удаление некоторых слов\n",
    "    text = re.sub(r'\\b(?:и|для|д|с|ф|п|ая|007|i)\\b', '', text)\n",
    "\n",
    "    return text"
   ]
  },
  {
   "cell_type": "code",
   "execution_count": 12,
   "id": "45152980-6f2b-4138-a507-be0d0c06e254",
   "metadata": {},
   "outputs": [],
   "source": [
    "df_dealerprice.product_name, df_product.name = df_dealerprice.product_name.apply(preprocess_text), df_product.name.apply(preprocess_text)"
   ]
  },
  {
   "cell_type": "markdown",
   "id": "a743f93a-9f6d-48b4-b08e-de4c4ae34afb",
   "metadata": {},
   "source": [
    "Объединим два корпуса названий продуктов в один. Стоит отметить, что при использовании только `df_product.name` в качестве корпуса размерность вектора уменьшалась в два раза, однако метрика при этом становилась меньше на 0.004."
   ]
  },
  {
   "cell_type": "code",
   "execution_count": 13,
   "id": "17c4ab41-36cf-48a8-a193-ca4c3f5be69d",
   "metadata": {},
   "outputs": [
    {
     "data": {
      "text/plain": [
       "array(['антисептик невымываемый prosept  ultra концентрат 1 10    1 л',\n",
       "       'антигололед   32 prosept  готовый состав   12 кг',\n",
       "       'герметик акриловый цвет сосна    0 6 л', ...,\n",
       "       'средство    удаления  клейкой ленты  клея  наклеек 0 4л prosept  duty universal готовый состав',\n",
       "       'отбеливатель   древесины prosept  eco 50 готовый состав 1 кг',\n",
       "       'герметик акриловый межшовный   деревянных конструкций  цвет  орех  готовый состав 0 6 кг'],\n",
       "      dtype=object)"
      ]
     },
     "execution_count": 13,
     "metadata": {},
     "output_type": "execute_result"
    }
   ],
   "source": [
    "corpus = pd.concat([df_product.name, df_dealerprice.product_name]).drop_duplicates().values\n",
    "corpus"
   ]
  },
  {
   "cell_type": "markdown",
   "id": "cb93cd4b-9ad5-4bd9-a77b-3b94f6b609ca",
   "metadata": {},
   "source": [
    "Предобработка проведена. Её успешность оценивалась по размерности получаемого через `TfidfVectorizer()` вектора, о чём было сказано ранее, и по метрике, о чём будет сказано в дальнейшем, дабы не раздувать код дополнительными демонстрациями. Для `SentenceTransformer('LaBSE')` размерность вектора фиксирована и ровна `768`, что определяется выходным слоем `BERT`. Приступим к проверке гипотезы. Начнём в векторизации и создании функции предсказания."
   ]
  },
  {
   "cell_type": "markdown",
   "id": "7064d22f-49e2-4467-ac48-b699cca99748",
   "metadata": {},
   "source": [
    "## `tf-idf` и `cosine_similarity`"
   ]
  },
  {
   "cell_type": "markdown",
   "id": "03e3d000-bf29-406b-8238-a7776dd01102",
   "metadata": {},
   "source": [
    "Векторизуем `df_product.name` и `df_dealerprice.product_name` с помощью `tf-idf`. Так же будем оценивать скорость выполнения каждой функциональной ячейки, так как время выполнения скрипта важный критерий для оценки всей работы."
   ]
  },
  {
   "cell_type": "code",
   "execution_count": 14,
   "id": "47cdc9dd-b08e-4692-b045-241560996f56",
   "metadata": {},
   "outputs": [
    {
     "name": "stdout",
     "output_type": "stream",
     "text": [
      "CPU times: total: 46.9 ms\n",
      "Wall time: 47.6 ms\n"
     ]
    }
   ],
   "source": [
    "%%time\n",
    "\n",
    "vectorizer = TfidfVectorizer()\n",
    "vectorizer_fited = vectorizer.fit(corpus)\n",
    "\n",
    "vectors_targ_tf_idf = vectorizer_fited.transform(df_product.name).tocsc()\n",
    "vectors_feat_tf_idf = vectorizer_fited.transform(df_dealerprice.product_name).tocsr()"
   ]
  },
  {
   "cell_type": "markdown",
   "id": "e5da4bbe-91df-4884-b141-d5bfe138d21d",
   "metadata": {},
   "source": [
    "Быстро. Параллельно посмотрим на размерность вектора."
   ]
  },
  {
   "cell_type": "code",
   "execution_count": 15,
   "id": "b55ac3a1-05d4-4595-891c-058443fe973a",
   "metadata": {},
   "outputs": [
    {
     "data": {
      "text/plain": [
       "1086"
      ]
     },
     "execution_count": 15,
     "metadata": {},
     "output_type": "execute_result"
    }
   ],
   "source": [
    "len(vectors_targ_tf_idf.todense().tolist()[0])"
   ]
  },
  {
   "cell_type": "markdown",
   "id": "d01047f6-c55a-4f54-9283-720a796172df",
   "metadata": {},
   "source": [
    "В функции предсказания выполняется итерирование по `vectors_feat`, рассчитывается `cosine_similarity` для каждой пары `vectors_feat[i], vectors_targ`. Функция возвращает лучшие `n` позиций вместе с соответствующими `cosine_similarity`. Для оптимизации времени расчёта матрицы векторов конвертированы в формат `Compressed Sparse`. <br>\n",
    "В проекте `n` выставлен на `15`. Мы передаём в бэкенд больше мэтчей, чтобы при необходимости пользователь мог расширить диапазон сопоставления и при этом не ждать выполнения команд на расчёт. Мы можем позволить себе такую схему, так как мэтчи `всех со всеми` считаются довольно быстро."
   ]
  },
  {
   "cell_type": "code",
   "execution_count": 16,
   "id": "ae89985c-d752-4c2f-9602-3f0df0ff06e9",
   "metadata": {},
   "outputs": [],
   "source": [
    "def prediction(feat, vectors_feat, vectors_targ, n):\n",
    "    \n",
    "    pred_sim = cosine_similarity(vectors_feat, vectors_targ)\n",
    "    top_n_indices = np.argpartition(pred_sim, -n)[:, -n:]\n",
    "    top_n_values = pred_sim[np.arange(len(feat))[:,None], top_n_indices]\n",
    "    sorted_indices = np.argsort(top_n_values, axis=1)[:, ::-1]\n",
    "\n",
    "    pred = top_n_indices[np.arange(len(feat))[:,None], sorted_indices]\n",
    "    pred_sim = np.around(top_n_values[np.arange(len(feat))[:,None], sorted_indices], 6)\n",
    "\n",
    "    return pred, pred_sim"
   ]
  },
  {
   "cell_type": "code",
   "execution_count": 17,
   "id": "3b7f9b43-3002-4585-82a7-045aaa6499ec",
   "metadata": {},
   "outputs": [
    {
     "name": "stdout",
     "output_type": "stream",
     "text": [
      "CPU times: total: 15.6 ms\n",
      "Wall time: 14.8 ms\n"
     ]
    }
   ],
   "source": [
    "%%time\n",
    "\n",
    "pred_tf_idf, pred_sim_tf_idf = prediction(df_dealerprice.product_name, vectors_feat_tf_idf, vectors_targ_tf_idf, 5)"
   ]
  },
  {
   "cell_type": "markdown",
   "id": "07660ba6-9810-4565-819d-631936127d55",
   "metadata": {},
   "source": [
    "**16** милисекунд - хороший результат, отличная скорость."
   ]
  },
  {
   "cell_type": "code",
   "execution_count": 18,
   "id": "14fdd25a-ca69-48a8-90fa-f7725c3e757a",
   "metadata": {},
   "outputs": [
    {
     "name": "stdout",
     "output_type": "stream",
     "text": [
      "[[479 335 176 427 438]\n",
      " [ 63 174  89 263 262]\n",
      " [211 208 213 356 353]\n",
      " [458 247 276 144 192]\n",
      " [244 198 210 219 401]]\n"
     ]
    }
   ],
   "source": [
    "print(pred_tf_idf[0:5])"
   ]
  },
  {
   "cell_type": "code",
   "execution_count": 19,
   "id": "36239ed3-11ac-48db-ac05-b2bdd129ac5e",
   "metadata": {},
   "outputs": [
    {
     "name": "stdout",
     "output_type": "stream",
     "text": [
      "[[0.713308 0.713308 0.636209 0.457675 0.457675]\n",
      " [0.760594 0.758475 0.675576 0.617725 0.617725]\n",
      " [0.92914  0.651239 0.651239 0.180895 0.159084]\n",
      " [0.701138 0.701138 0.660921 0.188367 0.165116]\n",
      " [0.910776 0.608842 0.466199 0.466199 0.39751 ]]\n"
     ]
    }
   ],
   "source": [
    "print(pred_sim_tf_idf[0:5])"
   ]
  },
  {
   "cell_type": "markdown",
   "id": "ae40e182-1ba8-4e4e-9d87-6f7eaaf61958",
   "metadata": {},
   "source": [
    "Функция работает и выдаёт корректный результат. Стоит отметить, что первая версия функции предсказания выполнялась за **~70** секунд и выдавала дублирующиеся значения айди названий от заказчика, то есть в топ-5 могло попасть всего 3 уникальных айди, что ухудшало не только метрику, но и выдачу для оператора в дальнейшем. <br>\n",
    "Рассмотрим альтернативный метод получения векторов - `SentenceTransformer('LaBSE')`."
   ]
  },
  {
   "cell_type": "markdown",
   "id": "8d731d45-4ba6-4b14-9d0e-47a0dede4d9a",
   "metadata": {},
   "source": [
    "## `LaBSE` и `cosine_similarity`"
   ]
  },
  {
   "cell_type": "markdown",
   "id": "f703e6f6-d19f-4ba4-8423-9347da5c9630",
   "metadata": {},
   "source": [
    "Векторизуем `df_product.name` и `df_dealerprice.product_name` с помощью `SentenceTransformer('LaBSE')`. При этом будем использовать уменьшенную версию `LaBSE-en-ru`."
   ]
  },
  {
   "cell_type": "code",
   "execution_count": 20,
   "id": "3482a0d7-4745-497a-b7f4-0106459329ca",
   "metadata": {},
   "outputs": [
    {
     "name": "stdout",
     "output_type": "stream",
     "text": [
      "CPU times: total: 3min 37s\n",
      "Wall time: 38.5 s\n"
     ]
    }
   ],
   "source": [
    "%%time\n",
    "\n",
    "labse_model = SentenceTransformer('cointegrated/LaBSE-en-ru')\n",
    "\n",
    "vectors_feat_LaBSE = labse_model.encode(df_dealerprice.product_name.tolist(), convert_to_tensor=True)\n",
    "vectors_targ_LaBSE = labse_model.encode(df_product.name.tolist(), convert_to_tensor=True)"
   ]
  },
  {
   "cell_type": "code",
   "execution_count": 21,
   "id": "3408ccc6-b4da-4b58-b19d-3d4c2def60e1",
   "metadata": {},
   "outputs": [
    {
     "name": "stdout",
     "output_type": "stream",
     "text": [
      "CPU times: total: 125 ms\n",
      "Wall time: 32 ms\n"
     ]
    }
   ],
   "source": [
    "%%time\n",
    "\n",
    "pred_LaBSE, pred_sim_LaBSE = prediction(df_dealerprice.product_name, vectors_feat_LaBSE, vectors_targ_LaBSE, 5)"
   ]
  },
  {
   "cell_type": "code",
   "execution_count": 22,
   "id": "fe4209f5-a73e-495e-9000-be7b065f4d60",
   "metadata": {},
   "outputs": [
    {
     "name": "stdout",
     "output_type": "stream",
     "text": [
      "[[479 335 306 257  62]\n",
      " [413 174 263  63 262]\n",
      " [211 208 270 213 479]\n",
      " [276 247 458 175 428]\n",
      " [244 267 413  60  46]]\n"
     ]
    }
   ],
   "source": [
    "print(pred_LaBSE[0:5])"
   ]
  },
  {
   "cell_type": "code",
   "execution_count": 23,
   "id": "5423479c-0bb6-4a5c-ae5e-22992f586723",
   "metadata": {},
   "outputs": [
    {
     "name": "stdout",
     "output_type": "stream",
     "text": [
      "[[0.836639 0.807962 0.766614 0.755786 0.739337]\n",
      " [0.849344 0.809834 0.801016 0.797913 0.782371]\n",
      " [0.887787 0.738887 0.73254  0.730585 0.723519]\n",
      " [0.784702 0.722444 0.693823 0.576571 0.565438]\n",
      " [0.858922 0.735704 0.715354 0.706525 0.696894]]\n"
     ]
    }
   ],
   "source": [
    "print(pred_sim_LaBSE[0:5])"
   ]
  },
  {
   "cell_type": "markdown",
   "id": "48b78745-7f12-4e89-a5cd-5d01efd6fed3",
   "metadata": {},
   "source": [
    "Суммарное время расчёта в **40** секунд тоже является хорошим результатом, однако неизвестны параметры оборудования заказчика, на котором будет выполнятся наша программа, что может привести к значительному увеличению времени на выполнение кода. Так же необходимость загрузки тяжёлых библиотек является минусом этого векторизатора. Необходимо сравнить точность предсказанных мэтчей."
   ]
  },
  {
   "cell_type": "markdown",
   "id": "29ea13da-8c44-4126-916d-a1d429ae327b",
   "metadata": {},
   "source": [
    "На данном этапе мы получили список предложенных нашей функцией `prediction` позиций заказчика для каждой позиции дилера. Однако данные индексы не соответствуют индексам во входных файлах, и для оценки полученных предсказаний необходимо сопоставить индексы настоящим `product_id` и `product_key`."
   ]
  },
  {
   "cell_type": "markdown",
   "id": "db214779-234c-4658-ae43-d34edbc2e10d",
   "metadata": {},
   "source": [
    "## Сопоставление нашего расчёта с `product_id` и `product_key`."
   ]
  },
  {
   "cell_type": "markdown",
   "id": "0a4b3bdd-6959-4af3-9825-2696c4701843",
   "metadata": {},
   "source": [
    "Напишем функцию для сопоставления айди."
   ]
  },
  {
   "cell_type": "code",
   "execution_count": 24,
   "id": "c8bba765-7e58-4910-aa9b-6fd51148ef80",
   "metadata": {},
   "outputs": [],
   "source": [
    "def get_id_key(pred, df_product):\n",
    "    result = []\n",
    "    product_id = dict(df_product['id']) \n",
    "\n",
    "    for row in pred:\n",
    "        new_row = [product_id.get(item, item) for item in row]\n",
    "        result.append(new_row)\n",
    "    return result"
   ]
  },
  {
   "cell_type": "code",
   "execution_count": 25,
   "id": "c175bcfb-077b-496a-8796-cca5c533d286",
   "metadata": {},
   "outputs": [
    {
     "name": "stdout",
     "output_type": "stream",
     "text": [
      "CPU times: total: 93.8 ms\n",
      "Wall time: 11 ms\n"
     ]
    }
   ],
   "source": [
    "%%time\n",
    "\n",
    "pred_id_key_tf_idf = get_id_key(pred_tf_idf, df_product)\n",
    "pred_id_key_LaBSE = get_id_key(pred_LaBSE, df_product)"
   ]
  },
  {
   "cell_type": "markdown",
   "id": "7bbb036c-fb1b-4efe-8dd4-afe7d89ac892",
   "metadata": {},
   "source": [
    "Создадим датафрейм с истинными `product_id` и `product_key`."
   ]
  },
  {
   "cell_type": "code",
   "execution_count": 26,
   "id": "f9c43b05-7612-48c8-b072-6f6e1277ffe6",
   "metadata": {},
   "outputs": [],
   "source": [
    "def result_to_df(pred, pred_sim, df_dealerprice):\n",
    "\n",
    "    df_result = df_dealerprice['product_key']\n",
    "    df_result = df_result.to_frame()\n",
    "    df_result['product_id'] = pred\n",
    "    df_result['pred_sim'] = pred_sim.tolist()\n",
    "    \n",
    "    return df_result"
   ]
  },
  {
   "cell_type": "code",
   "execution_count": 27,
   "id": "4a8e8fbe-ac1c-4550-90f3-2fa24a9872be",
   "metadata": {},
   "outputs": [],
   "source": [
    "df_result_tf_idf = result_to_df(pred_id_key_tf_idf, pred_sim_tf_idf, df_dealerprice)\n",
    "df_result_LaBSE = result_to_df(pred_id_key_LaBSE, pred_sim_LaBSE, df_dealerprice)"
   ]
  },
  {
   "cell_type": "code",
   "execution_count": 28,
   "id": "126ede23-75d7-452f-96d4-0e662f120bf7",
   "metadata": {},
   "outputs": [
    {
     "data": {
      "text/html": [
       "<div>\n",
       "<style scoped>\n",
       "    .dataframe tbody tr th:only-of-type {\n",
       "        vertical-align: middle;\n",
       "    }\n",
       "\n",
       "    .dataframe tbody tr th {\n",
       "        vertical-align: top;\n",
       "    }\n",
       "\n",
       "    .dataframe thead th {\n",
       "        text-align: right;\n",
       "    }\n",
       "</style>\n",
       "<table border=\"1\" class=\"dataframe\">\n",
       "  <thead>\n",
       "    <tr style=\"text-align: right;\">\n",
       "      <th></th>\n",
       "      <th>product_key</th>\n",
       "      <th>product_id</th>\n",
       "      <th>pred_sim</th>\n",
       "    </tr>\n",
       "  </thead>\n",
       "  <tbody>\n",
       "    <tr>\n",
       "      <th>0</th>\n",
       "      <td>546227</td>\n",
       "      <td>[12, 13, 15, 4, 5]</td>\n",
       "      <td>[0.713308, 0.713308, 0.636209, 0.457675, 0.457675]</td>\n",
       "    </tr>\n",
       "    <tr>\n",
       "      <th>1</th>\n",
       "      <td>546408</td>\n",
       "      <td>[470, 45, 434, 28, 29]</td>\n",
       "      <td>[0.760594, 0.758475, 0.675576, 0.617725, 0.617725]</td>\n",
       "    </tr>\n",
       "    <tr>\n",
       "      <th>2</th>\n",
       "      <td>546234</td>\n",
       "      <td>[18, 477, 478, 281, 282]</td>\n",
       "      <td>[0.92914, 0.651239, 0.651239, 0.180895, 0.159084]</td>\n",
       "    </tr>\n",
       "  </tbody>\n",
       "</table>\n",
       "</div>"
      ],
      "text/plain": [
       "  product_key                product_id  \\\n",
       "0      546227        [12, 13, 15, 4, 5]   \n",
       "1      546408    [470, 45, 434, 28, 29]   \n",
       "2      546234  [18, 477, 478, 281, 282]   \n",
       "\n",
       "                                             pred_sim  \n",
       "0  [0.713308, 0.713308, 0.636209, 0.457675, 0.457675]  \n",
       "1  [0.760594, 0.758475, 0.675576, 0.617725, 0.617725]  \n",
       "2   [0.92914, 0.651239, 0.651239, 0.180895, 0.159084]  "
      ]
     },
     "execution_count": 28,
     "metadata": {},
     "output_type": "execute_result"
    }
   ],
   "source": [
    "df_result_tf_idf.head(3)"
   ]
  },
  {
   "cell_type": "code",
   "execution_count": 29,
   "id": "f108b97f-84fe-4903-b749-bedec43920db",
   "metadata": {},
   "outputs": [
    {
     "data": {
      "text/html": [
       "<div>\n",
       "<style scoped>\n",
       "    .dataframe tbody tr th:only-of-type {\n",
       "        vertical-align: middle;\n",
       "    }\n",
       "\n",
       "    .dataframe tbody tr th {\n",
       "        vertical-align: top;\n",
       "    }\n",
       "\n",
       "    .dataframe thead th {\n",
       "        text-align: right;\n",
       "    }\n",
       "</style>\n",
       "<table border=\"1\" class=\"dataframe\">\n",
       "  <thead>\n",
       "    <tr style=\"text-align: right;\">\n",
       "      <th></th>\n",
       "      <th>product_key</th>\n",
       "      <th>product_id</th>\n",
       "      <th>pred_sim</th>\n",
       "    </tr>\n",
       "  </thead>\n",
       "  <tbody>\n",
       "    <tr>\n",
       "      <th>0</th>\n",
       "      <td>546227</td>\n",
       "      <td>[12, 13, 69, 260, 488]</td>\n",
       "      <td>[0.8366389870643616, 0.8079620003700256, 0.7666140198707581, 0.7557860016822815, 0.7393370270729065]</td>\n",
       "    </tr>\n",
       "    <tr>\n",
       "      <th>1</th>\n",
       "      <td>546408</td>\n",
       "      <td>[38, 45, 28, 470, 29]</td>\n",
       "      <td>[0.84934401512146, 0.8098340034484863, 0.8010159730911255, 0.7979130148887634, 0.7823709845542908]</td>\n",
       "    </tr>\n",
       "    <tr>\n",
       "      <th>2</th>\n",
       "      <td>546234</td>\n",
       "      <td>[18, 477, 453, 478, 12]</td>\n",
       "      <td>[0.8877869844436646, 0.7388870120048523, 0.7325400114059448, 0.730584979057312, 0.7235190272331238]</td>\n",
       "    </tr>\n",
       "  </tbody>\n",
       "</table>\n",
       "</div>"
      ],
      "text/plain": [
       "  product_key               product_id  \\\n",
       "0      546227   [12, 13, 69, 260, 488]   \n",
       "1      546408    [38, 45, 28, 470, 29]   \n",
       "2      546234  [18, 477, 453, 478, 12]   \n",
       "\n",
       "                                                                                               pred_sim  \n",
       "0  [0.8366389870643616, 0.8079620003700256, 0.7666140198707581, 0.7557860016822815, 0.7393370270729065]  \n",
       "1    [0.84934401512146, 0.8098340034484863, 0.8010159730911255, 0.7979130148887634, 0.7823709845542908]  \n",
       "2   [0.8877869844436646, 0.7388870120048523, 0.7325400114059448, 0.730584979057312, 0.7235190272331238]  "
      ]
     },
     "execution_count": 29,
     "metadata": {},
     "output_type": "execute_result"
    }
   ],
   "source": [
    "df_result_LaBSE.head(3)"
   ]
  },
  {
   "cell_type": "markdown",
   "id": "914ab376-ee26-4278-b5d8-5f4f0eee16d5",
   "metadata": {},
   "source": [
    "\n",
    "Проверим точность работы функции `predict`, используя полученные данные."
   ]
  },
  {
   "cell_type": "markdown",
   "id": "6fe8a897-fbe9-4771-ac71-edbc644b8967",
   "metadata": {},
   "source": [
    "## Валидация решения"
   ]
  },
  {
   "cell_type": "markdown",
   "id": "db4b75e2-1e9a-4488-a24e-cb2354ccb5a1",
   "metadata": {},
   "source": [
    "Валидацию наших решений проведём с помощью двух метрик - первая `metric_top_5` оценивает только попадание правильного названия заказчика в топ-5, вторая `mean_reciprocal_rank` учитывает позицию, на которой находится правильное предсказание."
   ]
  },
  {
   "cell_type": "code",
   "execution_count": 30,
   "id": "15e7758d-e74e-483d-b485-1f944faa8250",
   "metadata": {},
   "outputs": [],
   "source": [
    "def metric_top_5(actual, pred):\n",
    "    count = 0\n",
    "    for i in range(len(actual)):\n",
    "        if actual[i] in pred[i]:\n",
    "            count += 1\n",
    "    \n",
    "    return round(count / len(actual), 4)"
   ]
  },
  {
   "cell_type": "markdown",
   "id": "5765cb9e-badd-46f8-ba96-cd7c00053d5e",
   "metadata": {},
   "source": [
    "Для проверки метрики воспользуемся датасетом `df_productdealerkey` с размеченными вручную мэтчами."
   ]
  },
  {
   "cell_type": "code",
   "execution_count": 31,
   "id": "c985e266-133e-4952-95ad-a178dba24442",
   "metadata": {},
   "outputs": [
    {
     "data": {
      "text/html": [
       "<div>\n",
       "<style scoped>\n",
       "    .dataframe tbody tr th:only-of-type {\n",
       "        vertical-align: middle;\n",
       "    }\n",
       "\n",
       "    .dataframe tbody tr th {\n",
       "        vertical-align: top;\n",
       "    }\n",
       "\n",
       "    .dataframe thead th {\n",
       "        text-align: right;\n",
       "    }\n",
       "</style>\n",
       "<table border=\"1\" class=\"dataframe\">\n",
       "  <thead>\n",
       "    <tr style=\"text-align: right;\">\n",
       "      <th></th>\n",
       "      <th>product_key</th>\n",
       "      <th>product_id_x</th>\n",
       "      <th>pred_sim</th>\n",
       "      <th>key</th>\n",
       "      <th>product_id_y</th>\n",
       "    </tr>\n",
       "  </thead>\n",
       "  <tbody>\n",
       "    <tr>\n",
       "      <th>0</th>\n",
       "      <td>546227</td>\n",
       "      <td>[12, 13, 15, 4, 5]</td>\n",
       "      <td>[0.713308, 0.713308, 0.636209, 0.457675, 0.457675]</td>\n",
       "      <td>546227</td>\n",
       "      <td>12</td>\n",
       "    </tr>\n",
       "    <tr>\n",
       "      <th>1</th>\n",
       "      <td>546408</td>\n",
       "      <td>[470, 45, 434, 28, 29]</td>\n",
       "      <td>[0.760594, 0.758475, 0.675576, 0.617725, 0.617725]</td>\n",
       "      <td>546408</td>\n",
       "      <td>38</td>\n",
       "    </tr>\n",
       "    <tr>\n",
       "      <th>2</th>\n",
       "      <td>546234</td>\n",
       "      <td>[18, 477, 478, 281, 282]</td>\n",
       "      <td>[0.92914, 0.651239, 0.651239, 0.180895, 0.159084]</td>\n",
       "      <td>546234</td>\n",
       "      <td>18</td>\n",
       "    </tr>\n",
       "  </tbody>\n",
       "</table>\n",
       "</div>"
      ],
      "text/plain": [
       "  product_key              product_id_x  \\\n",
       "0      546227        [12, 13, 15, 4, 5]   \n",
       "1      546408    [470, 45, 434, 28, 29]   \n",
       "2      546234  [18, 477, 478, 281, 282]   \n",
       "\n",
       "                                             pred_sim     key  product_id_y  \n",
       "0  [0.713308, 0.713308, 0.636209, 0.457675, 0.457675]  546227            12  \n",
       "1  [0.760594, 0.758475, 0.675576, 0.617725, 0.617725]  546408            38  \n",
       "2   [0.92914, 0.651239, 0.651239, 0.180895, 0.159084]  546234            18  "
      ]
     },
     "execution_count": 31,
     "metadata": {},
     "output_type": "execute_result"
    }
   ],
   "source": [
    "df_metric_tf_idf = df_result_tf_idf.merge(df_productdealerkey[['key', 'product_id']], left_on='product_key', right_on='key')\n",
    "df_metric_tf_idf.head(3)"
   ]
  },
  {
   "cell_type": "code",
   "execution_count": 32,
   "id": "fd4871d0-e4f5-4009-87f9-15b804035288",
   "metadata": {},
   "outputs": [
    {
     "data": {
      "text/html": [
       "<div>\n",
       "<style scoped>\n",
       "    .dataframe tbody tr th:only-of-type {\n",
       "        vertical-align: middle;\n",
       "    }\n",
       "\n",
       "    .dataframe tbody tr th {\n",
       "        vertical-align: top;\n",
       "    }\n",
       "\n",
       "    .dataframe thead th {\n",
       "        text-align: right;\n",
       "    }\n",
       "</style>\n",
       "<table border=\"1\" class=\"dataframe\">\n",
       "  <thead>\n",
       "    <tr style=\"text-align: right;\">\n",
       "      <th></th>\n",
       "      <th>product_key</th>\n",
       "      <th>product_id_x</th>\n",
       "      <th>pred_sim</th>\n",
       "      <th>key</th>\n",
       "      <th>product_id_y</th>\n",
       "    </tr>\n",
       "  </thead>\n",
       "  <tbody>\n",
       "    <tr>\n",
       "      <th>0</th>\n",
       "      <td>546227</td>\n",
       "      <td>[12, 13, 69, 260, 488]</td>\n",
       "      <td>[0.8366389870643616, 0.8079620003700256, 0.7666140198707581, 0.7557860016822815, 0.7393370270729065]</td>\n",
       "      <td>546227</td>\n",
       "      <td>12</td>\n",
       "    </tr>\n",
       "    <tr>\n",
       "      <th>1</th>\n",
       "      <td>546408</td>\n",
       "      <td>[38, 45, 28, 470, 29]</td>\n",
       "      <td>[0.84934401512146, 0.8098340034484863, 0.8010159730911255, 0.7979130148887634, 0.7823709845542908]</td>\n",
       "      <td>546408</td>\n",
       "      <td>38</td>\n",
       "    </tr>\n",
       "    <tr>\n",
       "      <th>2</th>\n",
       "      <td>546234</td>\n",
       "      <td>[18, 477, 453, 478, 12]</td>\n",
       "      <td>[0.8877869844436646, 0.7388870120048523, 0.7325400114059448, 0.730584979057312, 0.7235190272331238]</td>\n",
       "      <td>546234</td>\n",
       "      <td>18</td>\n",
       "    </tr>\n",
       "  </tbody>\n",
       "</table>\n",
       "</div>"
      ],
      "text/plain": [
       "  product_key             product_id_x  \\\n",
       "0      546227   [12, 13, 69, 260, 488]   \n",
       "1      546408    [38, 45, 28, 470, 29]   \n",
       "2      546234  [18, 477, 453, 478, 12]   \n",
       "\n",
       "                                                                                               pred_sim  \\\n",
       "0  [0.8366389870643616, 0.8079620003700256, 0.7666140198707581, 0.7557860016822815, 0.7393370270729065]   \n",
       "1    [0.84934401512146, 0.8098340034484863, 0.8010159730911255, 0.7979130148887634, 0.7823709845542908]   \n",
       "2   [0.8877869844436646, 0.7388870120048523, 0.7325400114059448, 0.730584979057312, 0.7235190272331238]   \n",
       "\n",
       "      key  product_id_y  \n",
       "0  546227            12  \n",
       "1  546408            38  \n",
       "2  546234            18  "
      ]
     },
     "execution_count": 32,
     "metadata": {},
     "output_type": "execute_result"
    }
   ],
   "source": [
    "df_metric_LaBSE = df_result_LaBSE.merge(df_productdealerkey[['key', 'product_id']], left_on='product_key', right_on='key')\n",
    "df_metric_LaBSE.head(3)"
   ]
  },
  {
   "cell_type": "code",
   "execution_count": 33,
   "id": "ed68806b-c7fd-4df2-a508-b2f357d299b3",
   "metadata": {},
   "outputs": [
    {
     "data": {
      "text/plain": [
       "0.8652"
      ]
     },
     "execution_count": 33,
     "metadata": {},
     "output_type": "execute_result"
    }
   ],
   "source": [
    "metric_top_5(df_metric_tf_idf.product_id_y, df_metric_tf_idf.product_id_x)"
   ]
  },
  {
   "cell_type": "code",
   "execution_count": 34,
   "id": "90755a16-6872-4abc-9a42-3ee9114de78b",
   "metadata": {},
   "outputs": [
    {
     "data": {
      "text/plain": [
       "0.8971"
      ]
     },
     "execution_count": 34,
     "metadata": {},
     "output_type": "execute_result"
    }
   ],
   "source": [
    "metric_top_5(df_metric_LaBSE.product_id_y, df_metric_LaBSE.product_id_x)"
   ]
  },
  {
   "cell_type": "markdown",
   "id": "41aef63d-927c-4d53-b00b-598f5c0e2314",
   "metadata": {},
   "source": [
    "**0.8652** - 86% правильных названий заказчиков попали в топ-5 при применении `tf-idf`. Без блока с предобработкой текста данный параметр равнялся 76%. Для `SentenceTransformer('LaBSE')` результат немного лучше **0.8971** - 89%. <br>\n",
    "Посмотрим, какой метод векторизации позволяет лучше ранжировать топ-5."
   ]
  },
  {
   "cell_type": "code",
   "execution_count": 35,
   "id": "dda8e335-aa16-4f07-939c-5c14ae48cd29",
   "metadata": {},
   "outputs": [],
   "source": [
    "def mean_reciprocal_rank(true_id,\n",
    "                         recommendations,\n",
    "                         k=5):\n",
    "    \n",
    "    reciprocal_ranks = []\n",
    "    \n",
    "    for i, rec in enumerate(recommendations):\n",
    "        recs = rec[:k]\n",
    "        relevant = true_id[i]\n",
    "        \n",
    "        if np.isin(relevant, recs):\n",
    "            rank = np.where(recs == relevant)[0][0] + 1\n",
    "            reciprocal_ranks += [1 / rank]\n",
    "            \n",
    "        else:\n",
    "            reciprocal_ranks += [0]\n",
    "            \n",
    "    return round(np.mean(reciprocal_ranks), 4)"
   ]
  },
  {
   "cell_type": "code",
   "execution_count": 36,
   "id": "e7dc8719-6086-4df1-9fc1-da0f7879e627",
   "metadata": {},
   "outputs": [
    {
     "data": {
      "text/plain": [
       "0.6375"
      ]
     },
     "execution_count": 36,
     "metadata": {},
     "output_type": "execute_result"
    }
   ],
   "source": [
    "mean_reciprocal_rank(df_metric_tf_idf.product_id_y, df_metric_tf_idf.product_id_x)"
   ]
  },
  {
   "cell_type": "code",
   "execution_count": 37,
   "id": "ca6f7309-dde8-4936-b504-23d27e0afdf9",
   "metadata": {},
   "outputs": [
    {
     "data": {
      "text/plain": [
       "0.7888"
      ]
     },
     "execution_count": 37,
     "metadata": {},
     "output_type": "execute_result"
    }
   ],
   "source": [
    "mean_reciprocal_rank(df_metric_LaBSE.product_id_y, df_metric_LaBSE.product_id_x)"
   ]
  },
  {
   "cell_type": "markdown",
   "id": "cd5b5592-1779-42d7-a472-b54bf83c7908",
   "metadata": {},
   "source": [
    "По этой метрике `SentenceTransformer('LaBSE')` значительно лучше, чем `tf-idf`: **0.7888** против **0.6375**."
   ]
  },
  {
   "cell_type": "markdown",
   "id": "ec7c8f28-1b47-492f-bd1b-a27b43f5517a",
   "metadata": {},
   "source": [
    "## Выбор векторайзера"
   ]
  },
  {
   "cell_type": "markdown",
   "id": "0125fc34-f154-4687-9fbc-a52b25f70c59",
   "metadata": {},
   "source": [
    "Не смотря на то, что `SentenceTransformer('LaBSE')` показал заметно лучшие результаты по ранжированию, нежели `tf-idf`, но его интеграция в докер вызвала ряд проблем, таких как загрузка дополнительных тяжёлых библиотек `torch`, `nvidia` из интернета. Так же контейнер становится в два раза больше по объёму. В связи с сжатыми сроками проведения разработки было принято решение использовать более лёгкий, надёжный и быстрый `tf-idf`."
   ]
  },
  {
   "cell_type": "markdown",
   "id": "f842c9a1-133c-43a6-ac48-bb3e084713bb",
   "metadata": {},
   "source": [
    "Сохраним предсказания `tf-idf` в файл с расширением `json`."
   ]
  },
  {
   "cell_type": "code",
   "execution_count": 38,
   "id": "6d1f620d-1a3f-428d-b64c-3b27be7d33e0",
   "metadata": {},
   "outputs": [],
   "source": [
    "df_result_tf_idf.to_json(r'result.json', orient='columns')"
   ]
  },
  {
   "cell_type": "markdown",
   "id": "7c04fbb5-cd43-4a35-b3cb-806fbbb34a15",
   "metadata": {},
   "source": [
    "Данный файл будет передаваться в бэкенд один раз при загрузке программы.<br>"
   ]
  },
  {
   "cell_type": "markdown",
   "id": "26562fdf-f20e-44f1-887f-2e96b469487f",
   "metadata": {},
   "source": [
    "Мы получили хорошие результаты, но пока всё равно не 100% мэтчей. Проверим позиции, по которым наша функция `predict` выдала ошибочные предсказания."
   ]
  },
  {
   "cell_type": "markdown",
   "id": "e8869327-6d5a-4aab-89fd-8c27e873711d",
   "metadata": {},
   "source": [
    "## Анализ ошибочных предсказаний"
   ]
  },
  {
   "cell_type": "markdown",
   "id": "ac9a70c7-e5f9-4620-b4c2-5e0505983a81",
   "metadata": {},
   "source": [
    "Создадим и запустим функцию `first_n_no_match` для визуализации ошибочных предсказаний."
   ]
  },
  {
   "cell_type": "code",
   "execution_count": 39,
   "id": "532a6602-8bee-4794-a0d2-efd5dd472f8e",
   "metadata": {},
   "outputs": [
    {
     "name": "stdout",
     "output_type": "stream",
     "text": [
      "i 1 actual 38 pred [470, 45, 434, 28, 29] pred_sim [0.760594, 0.758475, 0.675576, 0.617725, 0.617725]\n",
      "i 17 actual 307 pred [259, 260, 261, 262, 306] pred_sim [0.484075, 0.484075, 0.449229, 0.43224, 0.398294]\n",
      "i 19 actual 234 pred [496, 229, 228, 485, 232] pred_sim [0.385265, 0.26113, 0.26113, 0.261068, 0.244779]\n",
      "i 25 actual 276 pred [271, 272, 273, 275, 274] pred_sim [0.790135, 0.740692, 0.711749, 0.701798, 0.672347]\n",
      "i 29 actual 235 pred [496, 229, 228, 485, 232] pred_sim [0.385265, 0.26113, 0.26113, 0.261068, 0.244779]\n",
      "i 42 actual 55 pred [53, 54, 50, 51, 52] pred_sim [0.438156, 0.438156, 0.423141, 0.423141, 0.42058]\n",
      "i 43 actual 52 pred [54, 53, 50, 51, 57] pred_sim [0.373225, 0.373225, 0.360436, 0.360436, 0.358514]\n",
      "i 60 actual 158 pred [155, 154, 157, 156, 159] pred_sim [0.429068, 0.429068, 0.408223, 0.408223, 0.399853]\n",
      "i 63 actual 332 pred [334, 336, 335, 351, 350] pred_sim [0.593076, 0.593076, 0.593076, 0.589857, 0.589857]\n",
      "i 64 actual 356 pred [334, 336, 335, 351, 350] pred_sim [0.593076, 0.593076, 0.593076, 0.589857, 0.589857]\n",
      "i 65 actual 341 pred [334, 336, 335, 351, 350] pred_sim [0.593076, 0.593076, 0.593076, 0.589857, 0.589857]\n",
      "i 67 actual 344 pred [334, 336, 335, 351, 350] pred_sim [0.593076, 0.593076, 0.593076, 0.589857, 0.589857]\n",
      "i 68 actual 353 pred [334, 336, 335, 351, 350] pred_sim [0.593076, 0.593076, 0.593076, 0.589857, 0.589857]\n",
      "i 69 actual 347 pred [334, 336, 335, 351, 350] pred_sim [0.593076, 0.593076, 0.593076, 0.589857, 0.589857]\n",
      "i 71 actual 338 pred [334, 336, 335, 351, 350] pred_sim [0.593076, 0.593076, 0.593076, 0.589857, 0.589857]\n",
      "i 72 actual 333 pred [334, 336, 335, 351, 350] pred_sim [0.593076, 0.593076, 0.593076, 0.589857, 0.589857]\n",
      "i 73 actual 357 pred [334, 336, 335, 351, 350] pred_sim [0.593076, 0.593076, 0.593076, 0.589857, 0.589857]\n",
      "i 74 actual 342 pred [334, 336, 335, 351, 350] pred_sim [0.593076, 0.593076, 0.593076, 0.589857, 0.589857]\n",
      "i 76 actual 345 pred [334, 336, 335, 351, 350] pred_sim [0.593076, 0.593076, 0.593076, 0.589857, 0.589857]\n",
      "i 77 actual 354 pred [334, 336, 335, 351, 350] pred_sim [0.593076, 0.593076, 0.593076, 0.589857, 0.589857]\n",
      "i 78 actual 339 pred [334, 336, 335, 351, 350] pred_sim [0.593076, 0.593076, 0.593076, 0.589857, 0.589857]\n",
      "i 79 actual 348 pred [334, 336, 335, 351, 350] pred_sim [0.593076, 0.593076, 0.593076, 0.589857, 0.589857]\n",
      "i 80 actual 331 pred [334, 336, 335, 351, 350] pred_sim [0.593076, 0.593076, 0.593076, 0.589857, 0.589857]\n",
      "i 81 actual 355 pred [334, 336, 335, 351, 350] pred_sim [0.593076, 0.593076, 0.593076, 0.589857, 0.589857]\n",
      "i 82 actual 340 pred [334, 336, 335, 351, 350] pred_sim [0.593076, 0.593076, 0.593076, 0.589857, 0.589857]\n",
      "i 84 actual 343 pred [334, 336, 335, 351, 350] pred_sim [0.593076, 0.593076, 0.593076, 0.589857, 0.589857]\n",
      "i 85 actual 352 pred [334, 336, 335, 351, 350] pred_sim [0.593076, 0.593076, 0.593076, 0.589857, 0.589857]\n",
      "i 86 actual 337 pred [334, 336, 335, 351, 350] pred_sim [0.593076, 0.593076, 0.593076, 0.589857, 0.589857]\n",
      "i 87 actual 346 pred [334, 336, 335, 351, 350] pred_sim [0.593076, 0.593076, 0.593076, 0.589857, 0.589857]\n",
      "i 88 actual 349 pred [334, 336, 335, 351, 350] pred_sim [0.593076, 0.593076, 0.593076, 0.589857, 0.589857]\n",
      "i 93 actual 192 pred [8, 9, 10, 11, 67] pred_sim [0.622081, 0.622081, 0.484478, 0.484478, 0.351393]\n",
      "i 94 actual 191 pred [8, 9, 10, 11, 67] pred_sim [0.622081, 0.622081, 0.484478, 0.484478, 0.351393]\n",
      "32\n"
     ]
    }
   ],
   "source": [
    "def first_n_no_match(actual, pred, pred_sim, n, m):\n",
    "    count = 0\n",
    "    for i in range(n, m):\n",
    "        if actual[i] not in pred[i]:\n",
    "            print('i', i ,'actual' , actual[i], 'pred', pred[i], 'pred_sim', pred_sim[i])\n",
    "            count += 1\n",
    "    return count\n",
    "    \n",
    "print(first_n_no_match(df_metric_tf_idf.product_id_y, df_metric_tf_idf.product_id_x, df_metric_tf_idf.pred_sim, 1, 100))"
   ]
  },
  {
   "cell_type": "markdown",
   "id": "a71591fd-b4be-476f-9c58-1b084076d1ec",
   "metadata": {},
   "source": [
    "Посмотрим на позицию `i 42 actual 55 pred [53, 54, 50, 51, 52] pred_sim [0.438065, 0.438065, 0.423054, 0.423054, 0.420493]`. Много предсказаний являются соседями. Также смущает одинаковое сходство для разных позиций."
   ]
  },
  {
   "cell_type": "markdown",
   "id": "48a1a5c4-0870-4c4b-943e-b1a175836abb",
   "metadata": {},
   "source": [
    "Выведем позицию дилера, для которой получили неверное предсказание."
   ]
  },
  {
   "cell_type": "code",
   "execution_count": 40,
   "id": "c17a5bb5-c62b-4459-a5b8-dcb6c438d27a",
   "metadata": {},
   "outputs": [
    {
     "data": {
      "text/html": [
       "<div>\n",
       "<style scoped>\n",
       "    .dataframe tbody tr th:only-of-type {\n",
       "        vertical-align: middle;\n",
       "    }\n",
       "\n",
       "    .dataframe tbody tr th {\n",
       "        vertical-align: top;\n",
       "    }\n",
       "\n",
       "    .dataframe thead th {\n",
       "        text-align: right;\n",
       "    }\n",
       "</style>\n",
       "<table border=\"1\" class=\"dataframe\">\n",
       "  <thead>\n",
       "    <tr style=\"text-align: right;\">\n",
       "      <th></th>\n",
       "      <th>product_key</th>\n",
       "      <th>product_name</th>\n",
       "    </tr>\n",
       "  </thead>\n",
       "  <tbody>\n",
       "    <tr>\n",
       "      <th>42</th>\n",
       "      <td>716500</td>\n",
       "      <td>средство    удаления  ржавчины  минеральных отложений 0 75л bath acid prosept  цитрус 294 075</td>\n",
       "    </tr>\n",
       "  </tbody>\n",
       "</table>\n",
       "</div>"
      ],
      "text/plain": [
       "   product_key  \\\n",
       "42      716500   \n",
       "\n",
       "                                                                                     product_name  \n",
       "42  средство    удаления  ржавчины  минеральных отложений 0 75л bath acid prosept  цитрус 294 075  "
      ]
     },
     "execution_count": 40,
     "metadata": {},
     "output_type": "execute_result"
    }
   ],
   "source": [
    "df_dealerprice[df_dealerprice.product_key == df_metric_tf_idf.iloc[42].product_key]"
   ]
  },
  {
   "cell_type": "markdown",
   "id": "9b07b4d7-8987-42a5-b53e-4d11e9b50979",
   "metadata": {},
   "source": [
    "Выведем предсказанные позиции."
   ]
  },
  {
   "cell_type": "code",
   "execution_count": 41,
   "id": "a79aa594-b160-4c5d-9531-5a8c3f88c937",
   "metadata": {},
   "outputs": [
    {
     "data": {
      "text/html": [
       "<div>\n",
       "<style scoped>\n",
       "    .dataframe tbody tr th:only-of-type {\n",
       "        vertical-align: middle;\n",
       "    }\n",
       "\n",
       "    .dataframe tbody tr th {\n",
       "        vertical-align: top;\n",
       "    }\n",
       "\n",
       "    .dataframe thead th {\n",
       "        text-align: right;\n",
       "    }\n",
       "</style>\n",
       "<table border=\"1\" class=\"dataframe\">\n",
       "  <thead>\n",
       "    <tr style=\"text-align: right;\">\n",
       "      <th></th>\n",
       "      <th>id</th>\n",
       "      <th>name</th>\n",
       "    </tr>\n",
       "    <tr>\n",
       "      <th>id_unique</th>\n",
       "      <th></th>\n",
       "      <th></th>\n",
       "    </tr>\n",
       "  </thead>\n",
       "  <tbody>\n",
       "    <tr>\n",
       "      <th>313</th>\n",
       "      <td>50</td>\n",
       "      <td>средство    удаления  ржавчины  минеральных отложений щадящего действия bath acid концентрат 1 200 1 500   1 л</td>\n",
       "    </tr>\n",
       "    <tr>\n",
       "      <th>314</th>\n",
       "      <td>53</td>\n",
       "      <td>средство  усиленного действия   удаления  ржавчины  минеральных отложений bath acid    концентрат 1 200 1 500   1 л</td>\n",
       "    </tr>\n",
       "    <tr>\n",
       "      <th>428</th>\n",
       "      <td>51</td>\n",
       "      <td>средство    удаления  ржавчины  минеральных отложений щадящего действия bath acid концентрат 1 200 1 500   5 л</td>\n",
       "    </tr>\n",
       "    <tr>\n",
       "      <th>435</th>\n",
       "      <td>54</td>\n",
       "      <td>средство  усиленного действия   удаления  ржавчины  минеральных отложений bath acid   концентрат 1 200 1 500   5 л</td>\n",
       "    </tr>\n",
       "    <tr>\n",
       "      <th>486</th>\n",
       "      <td>52</td>\n",
       "      <td>средство  усиленного действия   удаления  ржавчины  минеральных отложений bath acid    концентрат 1 200 1 500   0 75 л</td>\n",
       "    </tr>\n",
       "  </tbody>\n",
       "</table>\n",
       "</div>"
      ],
      "text/plain": [
       "           id  \\\n",
       "id_unique       \n",
       "313        50   \n",
       "314        53   \n",
       "428        51   \n",
       "435        54   \n",
       "486        52   \n",
       "\n",
       "                                                                                                                              name  \n",
       "id_unique                                                                                                                           \n",
       "313                средство    удаления  ржавчины  минеральных отложений щадящего действия bath acid концентрат 1 200 1 500   1 л   \n",
       "314           средство  усиленного действия   удаления  ржавчины  минеральных отложений bath acid    концентрат 1 200 1 500   1 л   \n",
       "428                средство    удаления  ржавчины  минеральных отложений щадящего действия bath acid концентрат 1 200 1 500   5 л   \n",
       "435            средство  усиленного действия   удаления  ржавчины  минеральных отложений bath acid   концентрат 1 200 1 500   5 л   \n",
       "486        средство  усиленного действия   удаления  ржавчины  минеральных отложений bath acid    концентрат 1 200 1 500   0 75 л   "
      ]
     },
     "execution_count": 41,
     "metadata": {},
     "output_type": "execute_result"
    }
   ],
   "source": [
    "df_product[df_product.id.isin(df_metric_tf_idf.iloc[42].product_id_x)]"
   ]
  },
  {
   "cell_type": "markdown",
   "id": "e85859cf-fae9-46a4-875b-ecf1c0737c2e",
   "metadata": {},
   "source": [
    "Выведем правильную позицию."
   ]
  },
  {
   "cell_type": "code",
   "execution_count": 42,
   "id": "564d1979-9afb-41fe-b73a-dfdadb6c6cf1",
   "metadata": {},
   "outputs": [
    {
     "data": {
      "text/html": [
       "<div>\n",
       "<style scoped>\n",
       "    .dataframe tbody tr th:only-of-type {\n",
       "        vertical-align: middle;\n",
       "    }\n",
       "\n",
       "    .dataframe tbody tr th {\n",
       "        vertical-align: top;\n",
       "    }\n",
       "\n",
       "    .dataframe thead th {\n",
       "        text-align: right;\n",
       "    }\n",
       "</style>\n",
       "<table border=\"1\" class=\"dataframe\">\n",
       "  <thead>\n",
       "    <tr style=\"text-align: right;\">\n",
       "      <th></th>\n",
       "      <th>id</th>\n",
       "      <th>name</th>\n",
       "    </tr>\n",
       "    <tr>\n",
       "      <th>id_unique</th>\n",
       "      <th></th>\n",
       "      <th></th>\n",
       "    </tr>\n",
       "  </thead>\n",
       "  <tbody>\n",
       "    <tr>\n",
       "      <th>25</th>\n",
       "      <td>55</td>\n",
       "      <td>средство  усиленного действия   удаления  ржавчины  минеральных отложений bath acid     ароматом цитрусаконцентрат 1 200 1 500   0 75 л</td>\n",
       "    </tr>\n",
       "  </tbody>\n",
       "</table>\n",
       "</div>"
      ],
      "text/plain": [
       "           id  \\\n",
       "id_unique       \n",
       "25         55   \n",
       "\n",
       "                                                                                                                                              name  \n",
       "id_unique                                                                                                                                           \n",
       "25         средство  усиленного действия   удаления  ржавчины  минеральных отложений bath acid     ароматом цитрусаконцентрат 1 200 1 500   0 75 л  "
      ]
     },
     "execution_count": 42,
     "metadata": {},
     "output_type": "execute_result"
    }
   ],
   "source": [
    "df_product[df_product.id == 55]"
   ]
  },
  {
   "cell_type": "markdown",
   "id": "2a8132e8-fb73-4c42-bb08-793013be5176",
   "metadata": {},
   "source": [
    "Это позиции заказчика для похожих товаров, которые отличаются объёмом и парой слов. А сходство идентично в тех позициях, где разница лишь в цифре объёма. Видимо, наш метод не очень хорошо различает цифры. Так же видно, что написание правильного названия сделано с ошибкой: в \"цитрусаконцентрат\" пропущен пробел. Скорее всего именно поэтому наш метод не смог сделать правильный мэтч. У нас есть блок предобработки текста, однако поиск всех подобных ошибок займёт много времени. В данном случае стоит передать заказчику информацию о том, что подобные ошибки ухудшают качество мэтчей, поэтому операторам стоит внимательнее относиться к занесению названий в базу данных."
   ]
  },
  {
   "cell_type": "markdown",
   "id": "2c097e74-79de-48ee-810b-6f48dd9835e0",
   "metadata": {},
   "source": [
    "Теперь посмотрим на позицию `i 63 actual 332 pred [334, 336, 335, 351, 350] pred_sim [0.593076, 0.593076, 0.593076, 0.589857, 0.589857]`"
   ]
  },
  {
   "cell_type": "markdown",
   "id": "1f0d0792-f26c-44f8-a766-2fa20258385c",
   "metadata": {},
   "source": [
    "Так же выведем позицию дилера, для которой получили неверное предсказание."
   ]
  },
  {
   "cell_type": "code",
   "execution_count": 43,
   "id": "c2c351d3-ded7-46ef-9d10-7b65a9dda98f",
   "metadata": {},
   "outputs": [
    {
     "data": {
      "text/html": [
       "<div>\n",
       "<style scoped>\n",
       "    .dataframe tbody tr th:only-of-type {\n",
       "        vertical-align: middle;\n",
       "    }\n",
       "\n",
       "    .dataframe tbody tr th {\n",
       "        vertical-align: top;\n",
       "    }\n",
       "\n",
       "    .dataframe thead th {\n",
       "        text-align: right;\n",
       "    }\n",
       "</style>\n",
       "<table border=\"1\" class=\"dataframe\">\n",
       "  <thead>\n",
       "    <tr style=\"text-align: right;\">\n",
       "      <th></th>\n",
       "      <th>product_key</th>\n",
       "      <th>product_name</th>\n",
       "    </tr>\n",
       "  </thead>\n",
       "  <tbody>\n",
       "    <tr>\n",
       "      <th>63</th>\n",
       "      <td>200671203</td>\n",
       "      <td>просепт bio lasur антисептик лессирующий защитно декоративный  2 7 л</td>\n",
       "    </tr>\n",
       "  </tbody>\n",
       "</table>\n",
       "</div>"
      ],
      "text/plain": [
       "   product_key  \\\n",
       "63   200671203   \n",
       "\n",
       "                                                             product_name  \n",
       "63  просепт bio lasur антисептик лессирующий защитно декоративный  2 7 л   "
      ]
     },
     "execution_count": 43,
     "metadata": {},
     "output_type": "execute_result"
    }
   ],
   "source": [
    "df_dealerprice[df_dealerprice.product_key == df_metric_tf_idf.iloc[63].product_key]"
   ]
  },
  {
   "cell_type": "markdown",
   "id": "f8b962d1-be6b-4421-aec3-54f4f87b6a4d",
   "metadata": {},
   "source": [
    "Выведем предсказанные позиции."
   ]
  },
  {
   "cell_type": "code",
   "execution_count": 44,
   "id": "281b1748-08fd-46fa-89ad-e7b9304a6eae",
   "metadata": {},
   "outputs": [
    {
     "data": {
      "text/html": [
       "<div>\n",
       "<style scoped>\n",
       "    .dataframe tbody tr th:only-of-type {\n",
       "        vertical-align: middle;\n",
       "    }\n",
       "\n",
       "    .dataframe tbody tr th {\n",
       "        vertical-align: top;\n",
       "    }\n",
       "\n",
       "    .dataframe thead th {\n",
       "        text-align: right;\n",
       "    }\n",
       "</style>\n",
       "<table border=\"1\" class=\"dataframe\">\n",
       "  <thead>\n",
       "    <tr style=\"text-align: right;\">\n",
       "      <th></th>\n",
       "      <th>id</th>\n",
       "      <th>name</th>\n",
       "    </tr>\n",
       "    <tr>\n",
       "      <th>id_unique</th>\n",
       "      <th></th>\n",
       "      <th></th>\n",
       "    </tr>\n",
       "  </thead>\n",
       "  <tbody>\n",
       "    <tr>\n",
       "      <th>22</th>\n",
       "      <td>351</td>\n",
       "      <td>антисептик лессирующий bio lasur   орех   9 л</td>\n",
       "    </tr>\n",
       "    <tr>\n",
       "      <th>118</th>\n",
       "      <td>350</td>\n",
       "      <td>антисептик лессирующий bio lasur   орех   2 7 л</td>\n",
       "    </tr>\n",
       "    <tr>\n",
       "      <th>120</th>\n",
       "      <td>336</td>\n",
       "      <td>антисептик лессирующий bio lasur   бесцветный   9 л</td>\n",
       "    </tr>\n",
       "    <tr>\n",
       "      <th>146</th>\n",
       "      <td>335</td>\n",
       "      <td>антисептик лессирующий bio lasur   бесцветный   2 7 л</td>\n",
       "    </tr>\n",
       "    <tr>\n",
       "      <th>151</th>\n",
       "      <td>334</td>\n",
       "      <td>антисептик лессирующий bio lasur   бесцветный   0 9 л</td>\n",
       "    </tr>\n",
       "  </tbody>\n",
       "</table>\n",
       "</div>"
      ],
      "text/plain": [
       "            id                                                   name\n",
       "id_unique                                                            \n",
       "22         351          антисептик лессирующий bio lasur   орех   9 л\n",
       "118        350        антисептик лессирующий bio lasur   орех   2 7 л\n",
       "120        336    антисептик лессирующий bio lasur   бесцветный   9 л\n",
       "146        335  антисептик лессирующий bio lasur   бесцветный   2 7 л\n",
       "151        334  антисептик лессирующий bio lasur   бесцветный   0 9 л"
      ]
     },
     "execution_count": 44,
     "metadata": {},
     "output_type": "execute_result"
    }
   ],
   "source": [
    "df_product[df_product.id.isin(df_metric_tf_idf.iloc[63].product_id_x)]"
   ]
  },
  {
   "cell_type": "markdown",
   "id": "1e6c00f7-8893-4935-8a09-79af9720af69",
   "metadata": {},
   "source": [
    "Выведем правильную позицию."
   ]
  },
  {
   "cell_type": "code",
   "execution_count": 45,
   "id": "32f65d7e-316a-4cc7-9826-b9bef81ab3e5",
   "metadata": {},
   "outputs": [
    {
     "data": {
      "text/html": [
       "<div>\n",
       "<style scoped>\n",
       "    .dataframe tbody tr th:only-of-type {\n",
       "        vertical-align: middle;\n",
       "    }\n",
       "\n",
       "    .dataframe tbody tr th {\n",
       "        vertical-align: top;\n",
       "    }\n",
       "\n",
       "    .dataframe thead th {\n",
       "        text-align: right;\n",
       "    }\n",
       "</style>\n",
       "<table border=\"1\" class=\"dataframe\">\n",
       "  <thead>\n",
       "    <tr style=\"text-align: right;\">\n",
       "      <th></th>\n",
       "      <th>id</th>\n",
       "      <th>name</th>\n",
       "    </tr>\n",
       "    <tr>\n",
       "      <th>id_unique</th>\n",
       "      <th></th>\n",
       "      <th></th>\n",
       "    </tr>\n",
       "  </thead>\n",
       "  <tbody>\n",
       "    <tr>\n",
       "      <th>150</th>\n",
       "      <td>332</td>\n",
       "      <td>антисептик лессирующий bio lasur   белый люкс   2 7 л</td>\n",
       "    </tr>\n",
       "  </tbody>\n",
       "</table>\n",
       "</div>"
      ],
      "text/plain": [
       "            id                                                   name\n",
       "id_unique                                                            \n",
       "150        332  антисептик лессирующий bio lasur   белый люкс   2 7 л"
      ]
     },
     "execution_count": 45,
     "metadata": {},
     "output_type": "execute_result"
    }
   ],
   "source": [
    "df_product[df_product.id == 332]"
   ]
  },
  {
   "cell_type": "markdown",
   "id": "d8836aa4-f67a-4860-8009-47998b51c4db",
   "metadata": {},
   "source": [
    "В названии дилера отсутствует цвет, хотя у заказчика он указан. Кажется, что установить точный мэтч для такой позиции не представляется возможным, а предложенные и правильный варианты одинаково подходят под описание этого товара дилера. С таким типом ошибок в написаниях можно бороться только увеличением количества предлагаемых мэтчей."
   ]
  },
  {
   "cell_type": "markdown",
   "id": "9e93d5b4-6e46-4629-a4e5-eca0525c7eca",
   "metadata": {},
   "source": [
    "И последний анализ позиции `i 93 actual 192 pred [8, 9, 10, 11, 67] pred_sim [0.622081, 0.622081, 0.484478, 0.484478, 0.351393]`"
   ]
  },
  {
   "cell_type": "code",
   "execution_count": 46,
   "id": "ca4d0d41-7538-4f58-9ca1-e8e89fa701bb",
   "metadata": {},
   "outputs": [
    {
     "data": {
      "text/html": [
       "<div>\n",
       "<style scoped>\n",
       "    .dataframe tbody tr th:only-of-type {\n",
       "        vertical-align: middle;\n",
       "    }\n",
       "\n",
       "    .dataframe tbody tr th {\n",
       "        vertical-align: top;\n",
       "    }\n",
       "\n",
       "    .dataframe thead th {\n",
       "        text-align: right;\n",
       "    }\n",
       "</style>\n",
       "<table border=\"1\" class=\"dataframe\">\n",
       "  <thead>\n",
       "    <tr style=\"text-align: right;\">\n",
       "      <th></th>\n",
       "      <th>product_key</th>\n",
       "      <th>product_name</th>\n",
       "    </tr>\n",
       "  </thead>\n",
       "  <tbody>\n",
       "    <tr>\n",
       "      <th>93</th>\n",
       "      <td>100121642</td>\n",
       "      <td>просепт professional prof dz универсальное средство   дезинфицирующим эффектом  5 л</td>\n",
       "    </tr>\n",
       "  </tbody>\n",
       "</table>\n",
       "</div>"
      ],
      "text/plain": [
       "   product_key  \\\n",
       "93   100121642   \n",
       "\n",
       "                                                                            product_name  \n",
       "93  просепт professional prof dz универсальное средство   дезинфицирующим эффектом  5 л   "
      ]
     },
     "execution_count": 46,
     "metadata": {},
     "output_type": "execute_result"
    }
   ],
   "source": [
    "df_dealerprice[df_dealerprice.product_key == df_metric_tf_idf.iloc[93].product_key]"
   ]
  },
  {
   "cell_type": "code",
   "execution_count": 47,
   "id": "7474fa7e-948c-4099-a77d-3b331cd16244",
   "metadata": {},
   "outputs": [
    {
     "data": {
      "text/html": [
       "<div>\n",
       "<style scoped>\n",
       "    .dataframe tbody tr th:only-of-type {\n",
       "        vertical-align: middle;\n",
       "    }\n",
       "\n",
       "    .dataframe tbody tr th {\n",
       "        vertical-align: top;\n",
       "    }\n",
       "\n",
       "    .dataframe thead th {\n",
       "        text-align: right;\n",
       "    }\n",
       "</style>\n",
       "<table border=\"1\" class=\"dataframe\">\n",
       "  <thead>\n",
       "    <tr style=\"text-align: right;\">\n",
       "      <th></th>\n",
       "      <th>id</th>\n",
       "      <th>name</th>\n",
       "    </tr>\n",
       "    <tr>\n",
       "      <th>id_unique</th>\n",
       "      <th></th>\n",
       "      <th></th>\n",
       "    </tr>\n",
       "  </thead>\n",
       "  <tbody>\n",
       "    <tr>\n",
       "      <th>269</th>\n",
       "      <td>10</td>\n",
       "      <td>универсальное средство  на основе час  дезинфицирующим эффектом un dz готовый состав   0 5 л</td>\n",
       "    </tr>\n",
       "    <tr>\n",
       "      <th>279</th>\n",
       "      <td>11</td>\n",
       "      <td>универсальное средство  на основе час  дезинфицирующим эффектом un dz готовый состав   5 л</td>\n",
       "    </tr>\n",
       "    <tr>\n",
       "      <th>315</th>\n",
       "      <td>67</td>\n",
       "      <td>средство    удаления  плесени    дезинфицирующим эффектом bath fungi концентрат 1 50 1 100   0 5 л</td>\n",
       "    </tr>\n",
       "    <tr>\n",
       "      <th>439</th>\n",
       "      <td>9</td>\n",
       "      <td>универсальное моющее средство   дезинфицирующим эффектом universal dz концентрат 1 10  1 120   5 л</td>\n",
       "    </tr>\n",
       "    <tr>\n",
       "      <th>443</th>\n",
       "      <td>8</td>\n",
       "      <td>универсальное моющее средство   дезинфицирующим эффектом universal dz концентрат 1 10  1 120   1 л</td>\n",
       "    </tr>\n",
       "  </tbody>\n",
       "</table>\n",
       "</div>"
      ],
      "text/plain": [
       "           id  \\\n",
       "id_unique       \n",
       "269        10   \n",
       "279        11   \n",
       "315        67   \n",
       "439         9   \n",
       "443         8   \n",
       "\n",
       "                                                                                                         name  \n",
       "id_unique                                                                                                      \n",
       "269              универсальное средство  на основе час  дезинфицирующим эффектом un dz готовый состав   0 5 л  \n",
       "279                универсальное средство  на основе час  дезинфицирующим эффектом un dz готовый состав   5 л  \n",
       "315        средство    удаления  плесени    дезинфицирующим эффектом bath fungi концентрат 1 50 1 100   0 5 л  \n",
       "439        универсальное моющее средство   дезинфицирующим эффектом universal dz концентрат 1 10  1 120   5 л  \n",
       "443        универсальное моющее средство   дезинфицирующим эффектом universal dz концентрат 1 10  1 120   1 л  "
      ]
     },
     "execution_count": 47,
     "metadata": {},
     "output_type": "execute_result"
    }
   ],
   "source": [
    "df_product[df_product.id.isin(df_metric_tf_idf.iloc[93].product_id_x)]"
   ]
  },
  {
   "cell_type": "code",
   "execution_count": 48,
   "id": "f1326818-a7ba-4593-b7a9-d9813e30f8d3",
   "metadata": {},
   "outputs": [
    {
     "data": {
      "text/html": [
       "<div>\n",
       "<style scoped>\n",
       "    .dataframe tbody tr th:only-of-type {\n",
       "        vertical-align: middle;\n",
       "    }\n",
       "\n",
       "    .dataframe tbody tr th {\n",
       "        vertical-align: top;\n",
       "    }\n",
       "\n",
       "    .dataframe thead th {\n",
       "        text-align: right;\n",
       "    }\n",
       "</style>\n",
       "<table border=\"1\" class=\"dataframe\">\n",
       "  <thead>\n",
       "    <tr style=\"text-align: right;\">\n",
       "      <th></th>\n",
       "      <th>id</th>\n",
       "      <th>name</th>\n",
       "    </tr>\n",
       "    <tr>\n",
       "      <th>id_unique</th>\n",
       "      <th></th>\n",
       "      <th></th>\n",
       "    </tr>\n",
       "  </thead>\n",
       "  <tbody>\n",
       "    <tr>\n",
       "      <th>133</th>\n",
       "      <td>192</td>\n",
       "      <td>дезинфицирующее средство  проф дз  prof dz  готовый состав   5 л</td>\n",
       "    </tr>\n",
       "  </tbody>\n",
       "</table>\n",
       "</div>"
      ],
      "text/plain": [
       "            id  \\\n",
       "id_unique        \n",
       "133        192   \n",
       "\n",
       "                                                                        name  \n",
       "id_unique                                                                     \n",
       "133        дезинфицирующее средство  проф дз  prof dz  готовый состав   5 л   "
      ]
     },
     "execution_count": 48,
     "metadata": {},
     "output_type": "execute_result"
    }
   ],
   "source": [
    "df_product[df_product.id == 192]"
   ]
  },
  {
   "cell_type": "markdown",
   "id": "2565f047-d541-4879-817b-c7f3ffc432eb",
   "metadata": {},
   "source": [
    "Тут видно, что описание у дилеров действительно не соответствует описанию заказчика: есть лишние слова \"универсальное\" и \"эффектом\", но при этом остуствует \"готовый состав\". Настолько большое отличие при наличии подходящих кондидатов наш метод уловить не может."
   ]
  },
  {
   "cell_type": "markdown",
   "id": "45c9d0bc-1620-44f9-b5f5-41cc72e7dd84",
   "metadata": {},
   "source": [
    "### Выводы и планы\n",
    "\n",
    "Выбранная базовая гипотеза подтвердилась, предложенный для её реализации метод дал отличные результаты. При этом в используемых названиях от заказчика и дилеров всё еще есть недостатки, ликвидируя которые можно дополнительно поднять точность мэтчей.\n",
    "\n",
    "В ходе выполнения проекта релизована предобработка данных. Разработан метод сопоставления топ `n` названий заказчиков названиям дилеров. Получены отличная скорость выполнения кода и отличное значение метрики."
   ]
  },
  {
   "cell_type": "code",
   "execution_count": null,
   "id": "52acd9ee-b31c-41a6-b810-3bfa65dc82cd",
   "metadata": {},
   "outputs": [],
   "source": []
  }
 ],
 "metadata": {
  "kernelspec": {
   "display_name": "Python 3 (ipykernel)",
   "language": "python",
   "name": "python3"
  },
  "language_info": {
   "codemirror_mode": {
    "name": "ipython",
    "version": 3
   },
   "file_extension": ".py",
   "mimetype": "text/x-python",
   "name": "python",
   "nbconvert_exporter": "python",
   "pygments_lexer": "ipython3",
   "version": "3.9.5"
  }
 },
 "nbformat": 4,
 "nbformat_minor": 5
}
